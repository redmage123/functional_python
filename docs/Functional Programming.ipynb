{
 "cells": [
  {
   "cell_type": "markdown",
   "metadata": {},
   "source": [
    "# Functional Programming in Python"
   ]
  },
  {
   "cell_type": "markdown",
   "metadata": {},
   "source": [
    "## What is functional programming?\n",
    "\n",
    "Functional programming is a programming paradigm distinct from other paradigms, such as imperative, or object oriented programming. \n",
    "\n",
    "The concept of functional programming derives from Algebra, where the concept of *functions* exist. \n",
    "I.e. defining functions such as f(x) = x ^ 2\n",
    "\n",
    "Note that in algebra there exists the concept of *composite* functions, such as f(g(x)).  We can apply this concept to our code to create the idea of functional programming. \n",
    "\n"
   ]
  },
  {
   "cell_type": "markdown",
   "metadata": {},
   "source": [
    "## How is functional programming defined?\n",
    "\n",
    "Functionial programming languages define the following:\n",
    "\n",
    "1.  Functions in the language are *first class objects*.  This means that any function can be passed into another function as an argument, and any function can return another function as it's return value.  This means that anything that can be done with \"data\" can be done with functions. \n",
    "\n",
    "2.  The primary control structure  is *recursion.*  \n",
    "\n",
    "3.  Functional programming focuses on processing data collections, such as lists.  These data collections are often used with recursion on sub-containers as a subustitute for loops.\n",
    "\n",
    "4.  Many  \"Pure\" functional languages, such as Haskell avoide the concept of *side effects.*  Generally that means that we don't use variables to track and exchange state.  I.e. once a variable as an initial assignment, it is never changed, effectively making it constant. \n",
    "\n",
    "5.  Functional programming discouraged the idea of statements and instead evaluates expressions.  \n",
    "\n",
    "6.  Functional programming is concerned with *what* is being computed, rather than *how* it is computed. \n",
    "\n",
    "7.  Functional programming relies on the concept of *higher order* functions. That is, functions that work on other functions that work on other functions. \n",
    "\n",
    "Software written with a functional paradigm tends to be very fast, and very robust, since no state changes are created. \n",
    "\n",
    "Python is not a pure functional programming language, however, you can write functional code quite easily in Python. \n",
    "\n",
    "\n",
    "\n"
   ]
  },
  {
   "cell_type": "markdown",
   "metadata": {},
   "source": [
    "Let's consider an example of taking code written in an imperative style and making it functional instead. "
   ]
  },
  {
   "cell_type": "code",
   "execution_count": 1,
   "metadata": {},
   "outputs": [
    {
     "data": {
      "text/plain": [
       "'C:\\\\Users\\\\bbrel'"
      ]
     },
     "execution_count": 1,
     "metadata": {},
     "output_type": "execute_result"
    }
   ],
   "source": [
    "from os import getcwd\n",
    "getcwd()"
   ]
  },
  {
   "cell_type": "code",
   "execution_count": 6,
   "metadata": {},
   "outputs": [
    {
     "name": "stdout",
     "output_type": "stream",
     "text": [
      "George Washington\n",
      "John Adams\n",
      "Thomas Jefferson\n",
      "James Madison\n",
      "James Monroe\n"
     ]
    }
   ],
   "source": [
    "# This code is written in an imperative style\n",
    "with open(\"functional_python/data/presidents.dat\") as f:\n",
    "    for line in f:\n",
    "        print (line.strip())"
   ]
  },
  {
   "cell_type": "code",
   "execution_count": 20,
   "metadata": {},
   "outputs": [
    {
     "name": "stdout",
     "output_type": "stream",
     "text": [
      "George Washington\n",
      "John Adams\n",
      "Thomas Jefferson\n",
      "James Madison\n",
      "James Monroe\n"
     ]
    }
   ],
   "source": [
    "#This code is written in a functional style. \n",
    "\n",
    "path = \"c:/users/bbrel/functional_python/data/presidents.dat\"\n",
    "def open_file(path):\n",
    "    return (open(path))\n",
    "    \n",
    "def read_file(f):\n",
    "    if not data_process(f.readline()):\n",
    "        return\n",
    "    else:\n",
    "        read_file(f)\n",
    "        \n",
    "def data_process(line):\n",
    "    if not line:\n",
    "        return False\n",
    "    else:\n",
    "        print (line.strip())\n",
    "        return True\n",
    "        \n",
    "read_file(open_file(path))"
   ]
  },
  {
   "cell_type": "markdown",
   "metadata": {},
   "source": [
    "Notice that in the functional style, variables may be initialized but they never actually change state.  All data is driven by the functions themselves. \n",
    "\n",
    "We haven't discussed what happens if the functional style program raises an exception.  We will look later at the concept of a \"monad.\" "
   ]
  },
  {
   "cell_type": "markdown",
   "metadata": {},
   "source": [
    "## Creating customized iterators. \n",
    "We will now look at some of the tools that we can use to create functional programmers.  The first tool is the concept of an iterator.  Consider that we have a customized class called 'Restaurant'.  We create a specialized class called 'Restaurants' which is a container of Restaurant objects.  How would we be able to iterate over all of the Restaurants objects inside that  class?\n",
    "\n",
    "To do this, we need to implement two dunderscore methods provided to us, __iter__ and __next__\n",
    "the __iter__ method returns the iterator.  In the following exxample, the Restaurants class itself is the Iterator as well as the iterable object.  Note that this isn't required.  You can create the iterator seperately from the iterable object. \n",
    "The __next__ method allows us to return the next value in the collection.  Note that when we run out of values in the container, we need to raise the *StopIteration* exception, otherwise, the for loop will not be able to catch it and exit gracefully. \n",
    "\n",
    "The following code gives us the ability to do that. "
   ]
  },
  {
   "cell_type": "code",
   "execution_count": 39,
   "metadata": {},
   "outputs": [],
   "source": [
    "class Restaurant:\n",
    "    def __init__(self,**kwargs):\n",
    "        \n",
    "        self.name = kwargs['name']\n",
    "        self.address = kwargs['address']\n",
    "        self.city = kwargs['city']\n",
    "        self.country = kwargs['country']\n",
    "        self.r_type = kwargs['r_type']\n",
    "        self.rating = kwargs['rating']\n",
    "        \n",
    "    def __str__(self):\n",
    "        return f\" Restaurant Name: {self.name} Address {self.address} City {self.city} Country {self.country} Food Type {self.r_type} Rating {self.rating}\"\n",
    "        \n",
    "    \n",
    "class Restaurants:\n",
    "    def __init__(self):\n",
    "        self.restaurant_list = []\n",
    "        \n",
    "    def add_restaurant(self,restaurant):\n",
    "        self.restaurant_list.append(restaurant)\n",
    "        \n",
    "    def __iter__(self):\n",
    "        self.indexval = 0\n",
    "        return self\n",
    "    \n",
    "    def __next__(self):\n",
    "        if self.indexval == len(self.restaurant_list):\n",
    "            raise StopIteration\n",
    "        else:\n",
    "            returnval = self.restaurant_list[self.indexval]\n",
    "            self.indexval  += 1\n",
    "            return returnval\n",
    "        \n",
    "restaurants = Restaurants()\n",
    "with open('c:/users/bbrel/functional_python/data/restaurant_data.txt') as f:\n",
    "    for line in f:\n",
    "        if not line:\n",
    "            break\n",
    "        (name, address, city, country, r_type, rating ) = line.strip().split(',')\n",
    "        r = Restaurant(name=name, address = address,city = city,country = country,  r_type = r_type, rating = rating)\n",
    "        restaurants.add_restaurant(r)"
   ]
  },
  {
   "cell_type": "code",
   "execution_count": 40,
   "metadata": {},
   "outputs": [
    {
     "name": "stdout",
     "output_type": "stream",
     "text": [
      " Restaurant Name: Alfredo's Italian Pizzeria Address  1234 Main Street City  Anytown Country  USA Food Type  Italian Rating  3\n",
      " Restaurant Name: Wong's Classic Chinese Address  1236 Main Street City  Anytown Country  USA Food Type  Chinese Rating  3\n",
      " Restaurant Name: Istanbul Kebabs Address  1237 Main Street City  Anytown Country  USA Food Type  Middle Eastern Rating  2\n",
      " Restaurant Name: Burgers 'n Stuff Address  1238 Main Street City  Anytown Country  USA Food Type  American Rating  4\n"
     ]
    }
   ],
   "source": [
    "for r in restaurants:\n",
    "    print (r)"
   ]
  },
  {
   "cell_type": "markdown",
   "metadata": {},
   "source": [
    "We can go even farther with this.  What if we want to sort the output by different fields, such as rating or alphabetically by Restaurant name?  We can overload, for example, the '<' operator by overloading __lt__() dunderscore method. Alternatively we can use methods like *sorted()* to sort the data for us.  The following code shows multiple ways of doing this. "
   ]
  },
  {
   "cell_type": "code",
   "execution_count": 50,
   "metadata": {},
   "outputs": [],
   "source": [
    "class Restaurant:\n",
    "    def __init__(self,**kwargs):\n",
    "        \n",
    "        self.name = kwargs['name']\n",
    "        self.address = kwargs['address']\n",
    "        self.city = kwargs['city']\n",
    "        self.country = kwargs['country']\n",
    "        self.r_type = kwargs['r_type']\n",
    "        self.rating = kwargs['rating']\n",
    "        \n",
    "    def __str__(self):\n",
    "        return f\" Restaurant Name: {self.name} Address {self.address} City {self.city} Country {self.country} Food Type {self.r_type} Rating {self.rating}\"\n",
    "       \n",
    "    def __lt__(self,other):\n",
    "        return self.rating < other.rating\n",
    "        \n",
    "    \n",
    "class Restaurants:\n",
    "    def __init__(self):\n",
    "        self.restaurant_list = []\n",
    "        \n",
    "    def add_restaurant(self,restaurant):\n",
    "        self.restaurant_list.append(restaurant)\n",
    "        \n",
    "    def __iter__(self):\n",
    "        self.indexval = 0\n",
    "        return self\n",
    "    \n",
    "    def __next__(self):\n",
    "        if self.indexval == len(self.restaurant_list):\n",
    "            raise StopIteration\n",
    "        else:\n",
    "            returnval = self.restaurant_list[self.indexval]\n",
    "            self.indexval  += 1\n",
    "            return returnval\n",
    "        \n",
    "    def returnList(self):\n",
    "        return self.restaurant_list\n",
    "        \n",
    "restaurants = Restaurants()\n",
    "with open('c:/users/bbrel/functional_python/data/restaurant_data.txt') as f:\n",
    "    for line in f:\n",
    "        if not line:\n",
    "            break\n",
    "        (name, address, city, country, r_type, rating ) = line.strip().split(',')\n",
    "        r = Restaurant(name=name, address = address,city = city,country = country,  r_type = r_type, rating = rating)\n",
    "        restaurants.add_restaurant(r)"
   ]
  },
  {
   "cell_type": "code",
   "execution_count": 60,
   "metadata": {},
   "outputs": [
    {
     "name": "stdout",
     "output_type": "stream",
     "text": [
      " Restaurant Name: Alfredo's Italian Pizzeria Address  1234 Main Street City  Anytown Country  USA Food Type  Italian Rating  3\n",
      " Restaurant Name: Wong's Classic Chinese Address  1236 Main Street City  Anytown Country  USA Food Type  Chinese Rating  3\n",
      " Restaurant Name: Istanbul Kebabs Address  1237 Main Street City  Anytown Country  USA Food Type  Middle Eastern Rating  2\n",
      " Restaurant Name: Burgers 'n Stuff Address  1238 Main Street City  Anytown Country  USA Food Type  American Rating  4\n"
     ]
    }
   ],
   "source": [
    "for r in restaurants:\n",
    "    print (r)"
   ]
  },
  {
   "cell_type": "code",
   "execution_count": 52,
   "metadata": {},
   "outputs": [
    {
     "name": "stdout",
     "output_type": "stream",
     "text": [
      " Restaurant Name: Istanbul Kebabs Address  1237 Main Street City  Anytown Country  USA Food Type  Middle Eastern Rating  2\n",
      " Restaurant Name: Alfredo's Italian Pizzeria Address  1234 Main Street City  Anytown Country  USA Food Type  Italian Rating  3\n",
      " Restaurant Name: Wong's Classic Chinese Address  1236 Main Street City  Anytown Country  USA Food Type  Chinese Rating  3\n",
      " Restaurant Name: Burgers 'n Stuff Address  1238 Main Street City  Anytown Country  USA Food Type  American Rating  4\n"
     ]
    }
   ],
   "source": [
    "for r in sorted(restaurants.returnList()):\n",
    "    print (r)"
   ]
  },
  {
   "cell_type": "code",
   "execution_count": 57,
   "metadata": {},
   "outputs": [
    {
     "name": "stdout",
     "output_type": "stream",
     "text": [
      " Restaurant Name: Istanbul Kebabs Address  1237 Main Street City  Anytown Country  USA Food Type  Middle Eastern Rating  2\n",
      " Restaurant Name: Alfredo's Italian Pizzeria Address  1234 Main Street City  Anytown Country  USA Food Type  Italian Rating  3\n",
      " Restaurant Name: Wong's Classic Chinese Address  1236 Main Street City  Anytown Country  USA Food Type  Chinese Rating  3\n",
      " Restaurant Name: Burgers 'n Stuff Address  1238 Main Street City  Anytown Country  USA Food Type  American Rating  4\n"
     ]
    }
   ],
   "source": [
    "sortedbyrating = sorted(restaurants.returnList(), key = lambda x: x.rating)\n",
    "for r in sortedbyrating:\n",
    "    print (r)"
   ]
  },
  {
   "cell_type": "code",
   "execution_count": 58,
   "metadata": {},
   "outputs": [
    {
     "name": "stdout",
     "output_type": "stream",
     "text": [
      " Restaurant Name: Alfredo's Italian Pizzeria Address  1234 Main Street City  Anytown Country  USA Food Type  Italian Rating  3\n",
      " Restaurant Name: Burgers 'n Stuff Address  1238 Main Street City  Anytown Country  USA Food Type  American Rating  4\n",
      " Restaurant Name: Istanbul Kebabs Address  1237 Main Street City  Anytown Country  USA Food Type  Middle Eastern Rating  2\n",
      " Restaurant Name: Wong's Classic Chinese Address  1236 Main Street City  Anytown Country  USA Food Type  Chinese Rating  3\n"
     ]
    }
   ],
   "source": [
    "sortedbyname = sorted(restaurants.returnList(), key = lambda x: x.name)\n",
    "for r in sortedbyname:\n",
    "    print (r)"
   ]
  },
  {
   "cell_type": "markdown",
   "metadata": {},
   "source": [
    "## Generators.\n",
    "\n",
    "Creating a customized iterable object can come with its own set of challenges.  It can be lengthy and cumbersome to create.  We must create an __iter__() method and a __next__() method for each object we wish to be able to iterate over. We also have to keep track of the state of the iterator, i.e. what is the current item is the iterator pointing to. \n",
    "\n",
    "What if there was an easier way to iterate over objects?\n",
    "A generator is simply a specific type of function in Python that returns an object that we can iterate over. \n",
    "\n",
    "Generators are created as a normal function, however, instead of using the *return* keyword, Python has another reserved word called *yield*.  \n",
    "\n",
    "The yield statement tells Python to save all states and return control to the calling module or function, however, when the calling module calls the generator function again, the generator remembers its state and resumes execution from that point. \n",
    "\n",
    "Here is an example of a generator. \n",
    "\n"
   ]
  },
  {
   "cell_type": "code",
   "execution_count": 63,
   "metadata": {},
   "outputs": [
    {
     "name": "stdout",
     "output_type": "stream",
     "text": [
      "1\n",
      "4\n",
      "9\n",
      "16\n",
      "25\n",
      "36\n",
      "49\n",
      "64\n",
      "81\n",
      "100\n"
     ]
    }
   ],
   "source": [
    "def mygen(x):\n",
    "    while True:\n",
    "        yield x**2\n",
    "        x+=1\n",
    "        \n",
    "g = mygen(1)\n",
    "for _ in range(10):\n",
    "    print (next(g))\n",
    "    \n"
   ]
  },
  {
   "cell_type": "markdown",
   "metadata": {},
   "source": [
    "We could also write the generator as a comprehension like so:"
   ]
  },
  {
   "cell_type": "code",
   "execution_count": 65,
   "metadata": {},
   "outputs": [
    {
     "name": "stdout",
     "output_type": "stream",
     "text": [
      "0\n"
     ]
    }
   ],
   "source": [
    "g = (i**2 for i in range (10))\n",
    "print (next(g))\n"
   ]
  },
  {
   "cell_type": "markdown",
   "metadata": {},
   "source": [
    "Let's rewrite our restaurants class to use a generator.  Note here that because genereators already define a __next__ function, we don't need to do it ourselves. "
   ]
  },
  {
   "cell_type": "code",
   "execution_count": 73,
   "metadata": {},
   "outputs": [],
   "source": [
    "class Restaurant:\n",
    "    def __init__(self,**kwargs):\n",
    "        \n",
    "        self.name = kwargs['name']\n",
    "        self.address = kwargs['address']\n",
    "        self.city = kwargs['city']\n",
    "        self.country = kwargs['country']\n",
    "        self.r_type = kwargs['r_type']\n",
    "        self.rating = kwargs['rating']\n",
    "        \n",
    "    def __str__(self):\n",
    "        return f\" Restaurant Name: {self.name} Address {self.address} City {self.city} Country {self.country} Food Type{self.r_type} Rating {self.rating}\"\n",
    "       \n",
    "    def __lt__(self,other):\n",
    "        return self.rating < other.rating\n",
    "        \n",
    "    \n",
    "class Restaurants:\n",
    "    def __init__(self):\n",
    "        self.restaurant_list = []\n",
    "        \n",
    "    def add_restaurant(self,restaurant):\n",
    "        self.restaurant_list.append(restaurant)\n",
    "        \n",
    "    def __iter__(self):\n",
    "        self.indexval = 0\n",
    "        while len(self.restaurant_list) != self.indexval: \n",
    "            yield self.restaurant_list[self.indexval]\n",
    "            self.indexval += 1\n",
    "\n",
    "    ''' \n",
    "    \n",
    "    We don't need this code anymore.  It's just here for reference.\n",
    "    def __next__(self):\n",
    "        if self.indexval == len(self.restaurant_list):\n",
    "            raise StopIteration\n",
    "        else:\n",
    "            returnval = self.restaurant_list[self.indexval]\n",
    "            self.indexval  += 1\n",
    "            return returnval\n",
    "    ''' \n",
    "    \n",
    "    def returnList(self):\n",
    "        return self.restaurant_list\n",
    "        \n",
    "restaurants = Restaurants()\n",
    "with open('c:/users/bbrel/functional_python/data/restaurant_data.txt') as f:\n",
    "    for line in f:\n",
    "        if not line:\n",
    "            break\n",
    "        (name, address, city, country, r_type, rating ) = line.strip().split(',')\n",
    "        r = Restaurant(name=name, address = address,city = city,country = country,  r_type = r_type, rating = rating)\n",
    "        restaurants.add_restaurant(r)"
   ]
  },
  {
   "cell_type": "code",
   "execution_count": 75,
   "metadata": {},
   "outputs": [
    {
     "name": "stdout",
     "output_type": "stream",
     "text": [
      " Restaurant Name: Alfredo's Italian Pizzeria Address  1234 Main Street City  Anytown Country  USA Food Type Italian Rating  3\n",
      " Restaurant Name: Wong's Classic Chinese Address  1236 Main Street City  Anytown Country  USA Food Type Chinese Rating  3\n",
      " Restaurant Name: Istanbul Kebabs Address  1237 Main Street City  Anytown Country  USA Food Type Middle Eastern Rating  2\n",
      " Restaurant Name: Burgers 'n Stuff Address  1238 Main Street City  Anytown Country  USA Food Type American Rating  4\n"
     ]
    }
   ],
   "source": [
    "for r in restaurants:\n",
    "    print (r)\n",
    "     "
   ]
  },
  {
   "cell_type": "markdown",
   "metadata": {},
   "source": [
    "## Generator Pipelines.\n",
    "\n",
    "Now that we have an understanding of generators, let's see how we can use them to create pipelines, similar to Unix pipelines to process data. \n",
    "Consider that we have a list of whole sale prices in USD.  We'd like to take those values, convert from USD to EUR and add ten percent to the price for retail markup. \n",
    "\n",
    "How can we do this using generators and pipelines?\n",
    "\n",
    "Let's tale a look.\n"
   ]
  },
  {
   "cell_type": "code",
   "execution_count": 120,
   "metadata": {},
   "outputs": [
    {
     "name": "stdout",
     "output_type": "stream",
     "text": [
      "11.48455\n",
      "27.159549999999996\n",
      "13.584999999999999\n",
      "19.844549999999998\n",
      "104.48955\n"
     ]
    }
   ],
   "source": [
    "price_list = [10.99, 25.99, 13.00, 18.99, 99.99]\n",
    "\n",
    "def start_pipeline(price_list):\n",
    "    indexvalue = 0\n",
    "    while indexvalue != len(price_list):\n",
    "        yield price_list[indexvalue]\n",
    "        indexvalue += 1\n",
    "\n",
    "    \n",
    "def convertToEuro(price_list):\n",
    "    conversion_factor = 0.95\n",
    "    for i in price_list:\n",
    "        yield i * conversion_factor\n",
    "        \n",
    "def markup_price(price_list):\n",
    "    for i in price_list:\n",
    "        wholesale_price = i + i * 0.10\n",
    "        yield wholesale_price\n",
    "    \n",
    "pipeline = markup_price(convertToEuro(start_pipeline(price_list)))\n",
    "\n",
    "for price in pipeline:\n",
    "    print (price)"
   ]
  },
  {
   "cell_type": "markdown",
   "metadata": {},
   "source": [
    "Note that we define each step in the pipeline as generator functions.  We then create the pipeline with the pipeline variable. \n",
    "Once we've done that, we can iterate over the pipeline.  Every value in the price list will be converted into Euros first, then it will be marked up by ten per cent. "
   ]
  },
  {
   "cell_type": "markdown",
   "metadata": {},
   "source": [
    "## Using the map() and filter() built in functions. \n",
    "\n",
    "Python provides two built-in functions, map() and filter().  These are extremely useful when doing functional programming. \n",
    "The first one is map().  This takes a sequence of data and passes it through the designated function and returns a sequence that is the output of that function.  For example:"
   ]
  },
  {
   "cell_type": "code",
   "execution_count": 122,
   "metadata": {},
   "outputs": [
    {
     "name": "stdout",
     "output_type": "stream",
     "text": [
      "[0, 1, 4, 9, 16, 25, 36, 49, 64, 81, 100]\n"
     ]
    }
   ],
   "source": [
    "nums = [0,1,2,3,4,5,6,7,8,9,10]\n",
    "def squares(x):\n",
    "    return x ** 2\n",
    "\n",
    "squares_list = map(squares,nums)\n",
    "print (list(squares_list))"
   ]
  },
  {
   "cell_type": "markdown",
   "metadata": {},
   "source": [
    "The filter function allows us to choose which values in the sequence to work with.  We can chain map and filter together like so:\n"
   ]
  },
  {
   "cell_type": "code",
   "execution_count": 126,
   "metadata": {},
   "outputs": [
    {
     "name": "stdout",
     "output_type": "stream",
     "text": [
      "[0, 4, 16, 36, 64, 100]\n"
     ]
    }
   ],
   "source": [
    "nums = [0,1,2,3,4,5,6,7,8,9,10]\n",
    "def squares(x):\n",
    "    return x ** 2\n",
    "\n",
    "squares_list =  map(squares,filter(lambda x: x %2 == 0,nums))\n",
    "print (list(squares_list))"
   ]
  },
  {
   "cell_type": "markdown",
   "metadata": {},
   "source": [
    "## Python coroutines\n",
    "\n",
    "Coroutines are very similar to generators, however, instead of generating output, coroutines consume output. \n",
    "With generators, data is pulled through the pipeline using a for loop.  With coroutines, data is pushed through the pipeline using the coroutine send method. \n",
    "\n",
    "To start a coroutine, you must send it an initial method call, either the next() method or send(None).\n",
    "\n",
    "Let's see an example of this."
   ]
  },
  {
   "cell_type": "code",
   "execution_count": 129,
   "metadata": {},
   "outputs": [
    {
     "name": "stdout",
     "output_type": "stream",
     "text": [
      "Looking for pattern in input\n",
      "I love coroutines\n"
     ]
    }
   ],
   "source": [
    "def grep(pattern):\n",
    "    print ('Looking for pattern in input')\n",
    "    while True:\n",
    "        data = (yield)\n",
    "        if pattern in data:\n",
    "            print (data)\n",
    "            \n",
    "gcou = grep('coroutine')\n",
    "next(gcou)\n",
    "\n",
    "data_list = [\"I love generators\", \"I love functions\",\"I love coroutines\"]\n",
    "\n",
    "for phrase in data_list:\n",
    "    gcou.send(phrase)\n"
   ]
  },
  {
   "cell_type": "markdown",
   "metadata": {},
   "source": [
    "Let's go a bit farther into coroutine pipelines. \n",
    "Using coroutine pipelines, you need two things, a *source* and a *sink*.  \n",
    "The source generates the data initially. \n",
    "The sink handles the final disposition of the data. \n",
    "\n",
    "Let's re-write our grep application to use coroutine pipelines. \n",
    "\n",
    "\n",
    "\n"
   ]
  },
  {
   "cell_type": "code",
   "execution_count": 143,
   "metadata": {},
   "outputs": [
    {
     "name": "stdout",
     "output_type": "stream",
     "text": [
      "Looking for pattern in input\n",
      "I love coroutines\n",
      "I hate coroutines\n"
     ]
    },
    {
     "ename": "TypeError",
     "evalue": "'generator' object is not callable",
     "output_type": "error",
     "traceback": [
      "\u001b[1;31m---------------------------------------------------------------------------\u001b[0m",
      "\u001b[1;31mTypeError\u001b[0m                                 Traceback (most recent call last)",
      "\u001b[1;32m<ipython-input-143-0896bcd73276>\u001b[0m in \u001b[0;36m<module>\u001b[1;34m\u001b[0m\n\u001b[0;32m     23\u001b[0m \u001b[0mso\u001b[0m \u001b[1;33m=\u001b[0m \u001b[0msource\u001b[0m\u001b[1;33m(\u001b[0m\u001b[0mg\u001b[0m\u001b[1;33m)\u001b[0m\u001b[1;33m\u001b[0m\u001b[1;33m\u001b[0m\u001b[0m\n\u001b[0;32m     24\u001b[0m \u001b[1;33m\u001b[0m\u001b[0m\n\u001b[1;32m---> 25\u001b[1;33m \u001b[0mpipeline\u001b[0m \u001b[1;33m=\u001b[0m \u001b[0mso\u001b[0m\u001b[1;33m(\u001b[0m\u001b[0mg\u001b[0m\u001b[1;33m(\u001b[0m\u001b[1;34m'coroutine'\u001b[0m\u001b[1;33m,\u001b[0m\u001b[0ms\u001b[0m\u001b[1;33m)\u001b[0m\u001b[1;33m)\u001b[0m\u001b[1;33m\u001b[0m\u001b[1;33m\u001b[0m\u001b[0m\n\u001b[0m\u001b[0;32m     26\u001b[0m \u001b[1;33m\u001b[0m\u001b[0m\n\u001b[0;32m     27\u001b[0m \u001b[1;33m\u001b[0m\u001b[0m\n",
      "\u001b[1;31mTypeError\u001b[0m: 'generator' object is not callable"
     ]
    }
   ],
   "source": [
    "def source(target):\n",
    "    data_list = [\"I love generators\", \"I love functions\",\"I love coroutines\",\"I hate coroutines\"]\n",
    "    for phrase in data_list:\n",
    "        target.send(phrase)\n",
    "        \n",
    "def my_grep(pattern, target):\n",
    "    print ('Looking for pattern in input')\n",
    "    while True:\n",
    "        data = (yield)\n",
    "        if pattern in data:\n",
    "            target.send(data)\n",
    "            \n",
    "def sink():\n",
    "    while True:\n",
    "        data = (yield)\n",
    "        print (data)\n",
    "        \n",
    "\n",
    "s = sink()\n",
    "next (s)\n",
    "g = my_grep('coroutine',s)\n",
    "next(g)\n",
    "so = source(g)\n",
    "\n",
    "pipeline = so(g('coroutine',s))\n",
    "\n",
    "\n",
    "           \n",
    "    "
   ]
  },
  {
   "cell_type": "markdown",
   "metadata": {},
   "source": [
    "## Function closures and decorators. \n",
    "\n",
    "If you noticed with corouties, everytime I declare a coroutine, I must prime it by either calling next() or .send(None). \n",
    "This can be a real hassle, especially if you're writing a lot of code and you forget to prime it. \n",
    "\n",
    "What if we could tell Python to automatically prime the coroutine when we define it?\n",
    "This is where the concept of the decorator comes in. \n",
    "\n",
    "Let's take a look at this.  Here we create a new function called 'coroutine'. \n",
    "\n"
   ]
  },
  {
   "cell_type": "code",
   "execution_count": 146,
   "metadata": {},
   "outputs": [],
   "source": [
    "def coroutine(func):\n",
    "    def start(*args,**kwargs):\n",
    "        cr = func(*args,**kwargs)\n",
    "        next(cr)\n",
    "        return cr\n",
    "    return start"
   ]
  },
  {
   "cell_type": "markdown",
   "metadata": {},
   "source": [
    "We then tell python that when we define a coroutine, we enclose the actual coroutine code inside our coroutine function. \n",
    "This means now, that when we run our coroutines, the next() method is automatically called, so that we don't have to do it outselves. \n",
    "\n",
    "This concept is called a *closeure*. \n",
    "The @ notation is simply syntatic sugar so we don't constantly have to wrap all of our coroutines inside the coroutine function manually. \n"
   ]
  },
  {
   "cell_type": "code",
   "execution_count": 148,
   "metadata": {},
   "outputs": [
    {
     "name": "stdout",
     "output_type": "stream",
     "text": [
      "Looking for pattern in input\n",
      "I love coroutines\n",
      "I hate coroutines\n"
     ]
    },
    {
     "ename": "TypeError",
     "evalue": "'generator' object is not callable",
     "output_type": "error",
     "traceback": [
      "\u001b[1;31m---------------------------------------------------------------------------\u001b[0m",
      "\u001b[1;31mTypeError\u001b[0m                                 Traceback (most recent call last)",
      "\u001b[1;32m<ipython-input-148-0f0e42f10475>\u001b[0m in \u001b[0;36m<module>\u001b[1;34m\u001b[0m\n\u001b[0;32m     25\u001b[0m \u001b[0mso\u001b[0m \u001b[1;33m=\u001b[0m \u001b[0msource\u001b[0m\u001b[1;33m(\u001b[0m\u001b[0mg\u001b[0m\u001b[1;33m)\u001b[0m\u001b[1;33m\u001b[0m\u001b[1;33m\u001b[0m\u001b[0m\n\u001b[0;32m     26\u001b[0m \u001b[1;33m\u001b[0m\u001b[0m\n\u001b[1;32m---> 27\u001b[1;33m \u001b[0mpipeline\u001b[0m \u001b[1;33m=\u001b[0m \u001b[0mso\u001b[0m\u001b[1;33m(\u001b[0m\u001b[0mg\u001b[0m\u001b[1;33m(\u001b[0m\u001b[1;34m'coroutine'\u001b[0m\u001b[1;33m,\u001b[0m\u001b[0ms\u001b[0m\u001b[1;33m)\u001b[0m\u001b[1;33m)\u001b[0m\u001b[1;33m\u001b[0m\u001b[1;33m\u001b[0m\u001b[0m\n\u001b[0m",
      "\u001b[1;31mTypeError\u001b[0m: 'generator' object is not callable"
     ]
    }
   ],
   "source": [
    "\n",
    "def source(target):\n",
    "    data_list = [\"I love generators\", \"I love functions\",\"I love coroutines\",\"I hate coroutines\"]\n",
    "    for phrase in data_list:\n",
    "        target.send(phrase)\n",
    "\n",
    "@coroutine\n",
    "def my_grep(pattern, target):\n",
    "    print ('Looking for pattern in input')\n",
    "    while True:\n",
    "        data = (yield)\n",
    "        if pattern in data:\n",
    "            target.send(data)\n",
    "\n",
    "@coroutine\n",
    "def sink():\n",
    "    while True:\n",
    "        data = (yield)\n",
    "        print (data)\n",
    "        \n",
    "\n",
    "s = sink()\n",
    "#  No longer needed next (s)\n",
    "g = my_grep('coroutine',s)\n",
    "# No longer needed next(g)\n",
    "so = source(g)\n",
    "\n",
    "pipeline = so(g('coroutine',s))\n"
   ]
  },
  {
   "cell_type": "markdown",
   "metadata": {},
   "source": [
    "## Function closures \n",
    "\n",
    "Python Closures are inner functions that are enclosed within the outer function. Closures can access variables present in the outer function scope. It can access these variables even after the outer function has completed its execution.\n",
    "\n",
    "So we have a closure in Python if-\n",
    "\n",
    "We have a nested function, i.e. a function within a function\n",
    "The nested function refers to a variable of the outer function\n",
    "The enclosing function returns the enclosed function\n",
    "\n",
    "Here is a simple example."
   ]
  },
  {
   "cell_type": "code",
   "execution_count": 151,
   "metadata": {},
   "outputs": [
    {
     "name": "stdout",
     "output_type": "stream",
     "text": [
      "Braun\n"
     ]
    }
   ],
   "source": [
    "def outer(name):\n",
    "    # this is the enclosing function\n",
    "    def inner():\n",
    "        # this is the enclosed function\n",
    "        # the inner function accessing the outer function's variable 'name'\n",
    "        return name\n",
    "    return inner\n",
    "# call the enclosing function\n",
    "myFunction = outer('Braun')\n",
    "print(myFunction())"
   ]
  },
  {
   "cell_type": "markdown",
   "metadata": {},
   "source": [
    "Here, the call to outer function returns the inner function. This then gets assigned to ‘myFunction’. Now when we call myFunction, it prints ‘Braun’ (which was earlier given as an argument to outer).\n",
    "\n",
    "Do you see what just happened here? Even after ‘outer’ finishes its execution and all its variables go out of scope, the value passed to its argument is still remembered."
   ]
  },
  {
   "cell_type": "markdown",
   "metadata": {},
   "source": [
    "You can use closures –\n",
    "\n",
    "To replace the unnecessary use of class: Suppose you have a class that contains just one method besides the __init__ method. In such cases, it is often more elegant to use a closure instead of a class.\n",
    "\n",
    "To avoid the use of the global scope: If you have global variables which only one function in your program will use, think closure. Define the variables in the outer function and use them in the inner function.\n",
    "\n",
    "To implement data hiding: The only way to access the enclosed function is by calling the enclosing function. There is no way to access the inner function directly.\n",
    "\n",
    "To remember a function environment even after it completes its execution: You can then access the variables of this environment later in your program."
   ]
  },
  {
   "cell_type": "markdown",
   "metadata": {},
   "source": [
    "## Partial Functions\n",
    "\n",
    "You can think of a partial function as an extension of another specified function. A partial function has the same functionality of the specified function, but with pre-filled values for a certain number of arguments. As long as you employ partial functions properly — creating them only when you’ll need to use certain arguments over and over again — their use will help keep your code concise and reusable.\n",
    "\n",
    "Following is an exxample:"
   ]
  },
  {
   "cell_type": "code",
   "execution_count": 153,
   "metadata": {},
   "outputs": [
    {
     "name": "stdout",
     "output_type": "stream",
     "text": [
      "8\n",
      "20\n"
     ]
    }
   ],
   "source": [
    "def multiply(a,b):\n",
    "    return a * b\n",
    "\n",
    "def double(x):\n",
    "    return multiply(x,2)\n",
    "\n",
    "d = double(4)\n",
    "print (d)\n",
    "d = double(10)\n",
    "print (d)"
   ]
  },
  {
   "cell_type": "markdown",
   "metadata": {},
   "source": [
    "The above example is somewhat trivial, however, partial functions become very useful when doing tasks such as ETL where you may have functions with many parameters, where some of there values change very rarely whereas others change constantly. \n",
    "\n",
    "Partial functions can be extremely helpful in these use cases.\n",
    "\n",
    "Although it is possible to implement partial functions manually, many programmers will, instead, use a library called *functools*.  \n",
    "\n",
    "Let's see how we can use the partial method from the functools library to achieve the same thing as in the previous example. "
   ]
  },
  {
   "cell_type": "code",
   "execution_count": 154,
   "metadata": {},
   "outputs": [
    {
     "name": "stdout",
     "output_type": "stream",
     "text": [
      "8\n"
     ]
    }
   ],
   "source": [
    "from functools import partial\n",
    "\n",
    "def multiply(a,b):\n",
    "    return a * b\n",
    "\n",
    "double = partial(multiply,2)\n",
    "d = double(4)\n",
    "print (d)"
   ]
  },
  {
   "cell_type": "code",
   "execution_count": 161,
   "metadata": {},
   "outputs": [
    {
     "name": "stdout",
     "output_type": "stream",
     "text": [
      "<class 'int'>\n",
      "3,2\n"
     ]
    }
   ],
   "source": [
    "class Point:\n",
    "    \n",
    "    def __init__(self,x,y):\n",
    "        self.__x = x\n",
    "        self.__y = y\n",
    "        \n",
    "    @property\n",
    "    def x(self):\n",
    "        return self.__x\n",
    "    \n",
    "    @x.setter\n",
    "    def x(self,new):\n",
    "        print (type(new))\n",
    "        if type(new) is int:\n",
    "            self.__x = new\n",
    "        \n",
    "    @property\n",
    "    def y(self):\n",
    "        return self__y\n",
    "    \n",
    "    @y.setter\n",
    "    def y(self,new):\n",
    "        if type(new) is int:\n",
    "            self.__y = new\n",
    "\n",
    "    def __str__(self):\n",
    "        return str(self.__x) + \",\" + str(self.__y)\n",
    "        \n",
    "p = Point(1,2)\n",
    "p.x = 3\n",
    "print (p)\n",
    "        "
   ]
  },
  {
   "cell_type": "code",
   "execution_count": 158,
   "metadata": {},
   "outputs": [
    {
     "name": "stdout",
     "output_type": "stream",
     "text": [
      "<class 'int'>\n"
     ]
    }
   ],
   "source": [
    "a = 5\n",
    "print (type(a))"
   ]
  }
 ],
 "metadata": {
  "kernelspec": {
   "display_name": "Python 3",
   "language": "python",
   "name": "python3"
  },
  "language_info": {
   "codemirror_mode": {
    "name": "ipython",
    "version": 3
   },
   "file_extension": ".py",
   "mimetype": "text/x-python",
   "name": "python",
   "nbconvert_exporter": "python",
   "pygments_lexer": "ipython3",
   "version": "3.8.5"
  }
 },
 "nbformat": 4,
 "nbformat_minor": 4
}
